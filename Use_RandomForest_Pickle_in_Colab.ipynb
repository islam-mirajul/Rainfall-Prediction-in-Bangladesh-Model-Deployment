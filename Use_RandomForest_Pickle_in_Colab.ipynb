{
  "nbformat": 4,
  "nbformat_minor": 0,
  "metadata": {
    "colab": {
      "name": "Use_RandomForest_Pickle_in_Colab.ipynb",
      "provenance": [],
      "authorship_tag": "ABX9TyP45ake4QqC7cSGH2M0lA70",
      "include_colab_link": true
    },
    "kernelspec": {
      "name": "python3",
      "display_name": "Python 3"
    },
    "language_info": {
      "name": "python"
    }
  },
  "cells": [
    {
      "cell_type": "markdown",
      "metadata": {
        "id": "view-in-github",
        "colab_type": "text"
      },
      "source": [
        "<a href=\"https://colab.research.google.com/github/islam-mirajul/Rainfall-Prediction-in-Bangladesh-Model-Deployment/blob/main/Use_RandomForest_Pickle_in_Colab.ipynb\" target=\"_parent\"><img src=\"https://colab.research.google.com/assets/colab-badge.svg\" alt=\"Open In Colab\"/></a>"
      ]
    },
    {
      "cell_type": "code",
      "metadata": {
        "id": "h8S7HQ9Mm7uB"
      },
      "source": [
        "import pickle\n",
        "import numpy as np"
      ],
      "execution_count": 20,
      "outputs": []
    },
    {
      "cell_type": "code",
      "metadata": {
        "colab": {
          "base_uri": "https://localhost:8080/"
        },
        "id": "62X6DWY0nRWK",
        "outputId": "ad18480a-2667-4bd7-c806-0af338c0a363"
      },
      "source": [
        "!ls"
      ],
      "execution_count": 3,
      "outputs": [
        {
          "output_type": "stream",
          "text": [
            "sample_data\n"
          ],
          "name": "stdout"
        }
      ]
    },
    {
      "cell_type": "code",
      "metadata": {
        "colab": {
          "base_uri": "https://localhost:8080/"
        },
        "id": "dqyyJIa2nvXG",
        "outputId": "2fda9cf0-9e19-41c3-ac4c-68591934d52c"
      },
      "source": [
        "!wget https://github.com/islam-mirajul/Rainfall-Prediction-in-Bangladesh-Model-Deployment/raw/main/RandomForest.pickle"
      ],
      "execution_count": 5,
      "outputs": [
        {
          "output_type": "stream",
          "text": [
            "--2021-07-20 06:35:07--  https://github.com/islam-mirajul/Rainfall-Prediction-in-Bangladesh-Model-Deployment/raw/main/RandomForest.pickle\n",
            "Resolving github.com (github.com)... 140.82.112.3\n",
            "Connecting to github.com (github.com)|140.82.112.3|:443... connected.\n",
            "HTTP request sent, awaiting response... 302 Found\n",
            "Location: https://raw.githubusercontent.com/islam-mirajul/Rainfall-Prediction-in-Bangladesh-Model-Deployment/main/RandomForest.pickle [following]\n",
            "--2021-07-20 06:35:07--  https://raw.githubusercontent.com/islam-mirajul/Rainfall-Prediction-in-Bangladesh-Model-Deployment/main/RandomForest.pickle\n",
            "Resolving raw.githubusercontent.com (raw.githubusercontent.com)... 185.199.111.133, 185.199.108.133, 185.199.109.133, ...\n",
            "Connecting to raw.githubusercontent.com (raw.githubusercontent.com)|185.199.111.133|:443... connected.\n",
            "HTTP request sent, awaiting response... 200 OK\n",
            "Length: 3636099 (3.5M) [application/octet-stream]\n",
            "Saving to: ‘RandomForest.pickle’\n",
            "\n",
            "RandomForest.pickle 100%[===================>]   3.47M  --.-KB/s    in 0.1s    \n",
            "\n",
            "2021-07-20 06:35:08 (24.0 MB/s) - ‘RandomForest.pickle’ saved [3636099/3636099]\n",
            "\n"
          ],
          "name": "stdout"
        }
      ]
    },
    {
      "cell_type": "code",
      "metadata": {
        "colab": {
          "base_uri": "https://localhost:8080/"
        },
        "id": "k1RYQvHGoA7B",
        "outputId": "fe9cb0cb-b7d8-4c78-fb3b-aa8d759ad2c0"
      },
      "source": [
        "!ls"
      ],
      "execution_count": 6,
      "outputs": [
        {
          "output_type": "stream",
          "text": [
            "RandomForest.pickle  sample_data\n"
          ],
          "name": "stdout"
        }
      ]
    },
    {
      "cell_type": "code",
      "metadata": {
        "colab": {
          "base_uri": "https://localhost:8080/"
        },
        "id": "YmkoxFHmoDEh",
        "outputId": "80400a27-4fd9-4314-9047-4687367c275f"
      },
      "source": [
        "!wget https://github.com/islam-mirajul/Rainfall-Prediction-in-Bangladesh-Model-Deployment/raw/main/scaller.pickle"
      ],
      "execution_count": 7,
      "outputs": [
        {
          "output_type": "stream",
          "text": [
            "--2021-07-20 06:35:48--  https://github.com/islam-mirajul/Rainfall-Prediction-in-Bangladesh-Model-Deployment/raw/main/scaller.pickle\n",
            "Resolving github.com (github.com)... 140.82.113.3\n",
            "Connecting to github.com (github.com)|140.82.113.3|:443... connected.\n",
            "HTTP request sent, awaiting response... 302 Found\n",
            "Location: https://raw.githubusercontent.com/islam-mirajul/Rainfall-Prediction-in-Bangladesh-Model-Deployment/main/scaller.pickle [following]\n",
            "--2021-07-20 06:35:48--  https://raw.githubusercontent.com/islam-mirajul/Rainfall-Prediction-in-Bangladesh-Model-Deployment/main/scaller.pickle\n",
            "Resolving raw.githubusercontent.com (raw.githubusercontent.com)... 185.199.108.133, 185.199.109.133, 185.199.110.133, ...\n",
            "Connecting to raw.githubusercontent.com (raw.githubusercontent.com)|185.199.108.133|:443... connected.\n",
            "HTTP request sent, awaiting response... 200 OK\n",
            "Length: 642 [application/octet-stream]\n",
            "Saving to: ‘scaller.pickle’\n",
            "\n",
            "scaller.pickle      100%[===================>]     642  --.-KB/s    in 0s      \n",
            "\n",
            "2021-07-20 06:35:49 (34.9 MB/s) - ‘scaller.pickle’ saved [642/642]\n",
            "\n"
          ],
          "name": "stdout"
        }
      ]
    },
    {
      "cell_type": "code",
      "metadata": {
        "colab": {
          "base_uri": "https://localhost:8080/"
        },
        "id": "4kT7XFogoLCz",
        "outputId": "7e579730-ddf5-43c9-fabd-41111e6cfca6"
      },
      "source": [
        "!ls"
      ],
      "execution_count": 8,
      "outputs": [
        {
          "output_type": "stream",
          "text": [
            "RandomForest.pickle  sample_data  scaller.pickle\n"
          ],
          "name": "stdout"
        }
      ]
    },
    {
      "cell_type": "markdown",
      "metadata": {
        "id": "z4HpZLgmoaMz"
      },
      "source": [
        "Make Prediction In colab\n"
      ]
    },
    {
      "cell_type": "code",
      "metadata": {
        "colab": {
          "base_uri": "https://localhost:8080/"
        },
        "id": "Mvk0WcVfoMbD",
        "outputId": "8827eef4-d085-4a53-b8f4-47e395ff11b2"
      },
      "source": [
        "\n",
        "Use_classifier = pickle.load(open('RandomForest.pickle','rb'))\n",
        "Use_scaler = pickle.load(open('scaller.pickle','rb'))"
      ],
      "execution_count": 10,
      "outputs": [
        {
          "output_type": "stream",
          "text": [
            "/usr/local/lib/python3.7/dist-packages/sklearn/base.py:318: UserWarning: Trying to unpickle estimator DecisionTreeClassifier from version 0.24.1 when using version 0.22.2.post1. This might lead to breaking code or invalid results. Use at your own risk.\n",
            "  UserWarning)\n",
            "/usr/local/lib/python3.7/dist-packages/sklearn/base.py:318: UserWarning: Trying to unpickle estimator RandomForestClassifier from version 0.24.1 when using version 0.22.2.post1. This might lead to breaking code or invalid results. Use at your own risk.\n",
            "  UserWarning)\n",
            "/usr/local/lib/python3.7/dist-packages/sklearn/base.py:318: UserWarning: Trying to unpickle estimator StandardScaler from version 0.24.1 when using version 0.22.2.post1. This might lead to breaking code or invalid results. Use at your own risk.\n",
            "  UserWarning)\n"
          ],
          "name": "stderr"
        }
      ]
    },
    {
      "cell_type": "code",
      "metadata": {
        "id": "4XMXkk4Iokk3"
      },
      "source": [
        "prediction_1 = Use_classifier.predict(Use_scaler.transform(np.array([[13,2.5,2,75,60,5.7,4.8,300]])))"
      ],
      "execution_count": 11,
      "outputs": []
    },
    {
      "cell_type": "code",
      "metadata": {
        "colab": {
          "base_uri": "https://localhost:8080/"
        },
        "id": "gOaLgt4Fotwe",
        "outputId": "ffcf9d84-6a53-4504-8157-d989005958c6"
      },
      "source": [
        "prediction_1"
      ],
      "execution_count": 12,
      "outputs": [
        {
          "output_type": "execute_result",
          "data": {
            "text/plain": [
              "array([0])"
            ]
          },
          "metadata": {
            "tags": []
          },
          "execution_count": 12
        }
      ]
    },
    {
      "cell_type": "code",
      "metadata": {
        "id": "T9TOBpEboyNA"
      },
      "source": [
        "prediction_1_proba = Use_classifier.predict_proba(Use_scaler.transform(np.array([[13,2.5,2,75,60,5.7,4.8,300]])))[:,1]"
      ],
      "execution_count": 13,
      "outputs": []
    },
    {
      "cell_type": "code",
      "metadata": {
        "colab": {
          "base_uri": "https://localhost:8080/"
        },
        "id": "HhxXlaono1MZ",
        "outputId": "df66df09-2203-496e-a5c6-8d4295b5140c"
      },
      "source": [
        "prediction_1_proba"
      ],
      "execution_count": 14,
      "outputs": [
        {
          "output_type": "execute_result",
          "data": {
            "text/plain": [
              "array([0.18])"
            ]
          },
          "metadata": {
            "tags": []
          },
          "execution_count": 14
        }
      ]
    },
    {
      "cell_type": "code",
      "metadata": {
        "id": "Pt0v5tLzo2V6"
      },
      "source": [
        "prediction_2 = Use_classifier.predict(Use_scaler.transform(np.array([[27,26,1,90,94,4.6,5.6,275]])))\n"
      ],
      "execution_count": 15,
      "outputs": []
    },
    {
      "cell_type": "code",
      "metadata": {
        "colab": {
          "base_uri": "https://localhost:8080/"
        },
        "id": "cVbzXCH8o5mI",
        "outputId": "e8ba99f3-a2bf-4d88-dcad-cf2ad546ba53"
      },
      "source": [
        "prediction_2"
      ],
      "execution_count": 16,
      "outputs": [
        {
          "output_type": "execute_result",
          "data": {
            "text/plain": [
              "array([1])"
            ]
          },
          "metadata": {
            "tags": []
          },
          "execution_count": 16
        }
      ]
    },
    {
      "cell_type": "code",
      "metadata": {
        "id": "vIYd2HUvo5Vq"
      },
      "source": [
        "prediction_2_proba = Use_classifier.predict_proba(Use_scaler.transform(np.array([[27,26,1,90,94,4.6,5.6,275]])))[:,1]"
      ],
      "execution_count": 17,
      "outputs": []
    },
    {
      "cell_type": "code",
      "metadata": {
        "colab": {
          "base_uri": "https://localhost:8080/"
        },
        "id": "PLpXt2DHo5O4",
        "outputId": "e2dad4cc-a6c3-4496-e294-73cf6a936a0a"
      },
      "source": [
        "prediction_2_proba"
      ],
      "execution_count": 18,
      "outputs": [
        {
          "output_type": "execute_result",
          "data": {
            "text/plain": [
              "array([0.61])"
            ]
          },
          "metadata": {
            "tags": []
          },
          "execution_count": 18
        }
      ]
    },
    {
      "cell_type": "code",
      "metadata": {
        "id": "YS-IFUUno_h0"
      },
      "source": [
        ""
      ],
      "execution_count": null,
      "outputs": []
    }
  ]
}